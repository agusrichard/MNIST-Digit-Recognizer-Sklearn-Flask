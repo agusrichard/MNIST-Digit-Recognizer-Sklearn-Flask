{
  "nbformat": 4,
  "nbformat_minor": 0,
  "metadata": {
    "colab": {
      "name": "mnist.ipynb",
      "provenance": [],
      "collapsed_sections": []
    },
    "kernelspec": {
      "name": "python3",
      "display_name": "Python 3"
    }
  },
  "cells": [
    {
      "cell_type": "markdown",
      "metadata": {
        "id": "BlScUqk676Ye",
        "colab_type": "text"
      },
      "source": [
        "# Machine Learning Project: MNIST"
      ]
    },
    {
      "cell_type": "markdown",
      "metadata": {
        "id": "9xv_mMGLAb8L",
        "colab_type": "text"
      },
      "source": [
        "---"
      ]
    },
    {
      "cell_type": "markdown",
      "metadata": {
        "id": "LcyOYJPqAeUg",
        "colab_type": "text"
      },
      "source": [
        "## Preliminary"
      ]
    },
    {
      "cell_type": "markdown",
      "metadata": {
        "id": "7KX0Q9Ul-l4P",
        "colab_type": "text"
      },
      "source": [
        "Import the necessary modules:"
      ]
    },
    {
      "cell_type": "code",
      "metadata": {
        "id": "kaJs2S098CNj",
        "colab_type": "code",
        "colab": {}
      },
      "source": [
        "# essentials\n",
        "import numpy as np\n",
        "import pandas as pd\n",
        "import matplotlib.pyplot as plt\n",
        "import seaborn as sns\n",
        "%matplotlib inline\n",
        "sns.set_style('darkgrid')\n",
        "import pickle\n",
        "\n",
        "# preprocessing and decomposition\n",
        "from sklearn.preprocessing import MinMaxScaler\n",
        "from sklearn.model_selection import train_test_split\n",
        "from sklearn.decomposition import PCA, KernelPCA, NMF\n",
        "\n",
        "# mnist dataset from keras\n",
        "from keras.datasets import mnist\n",
        "\n",
        "# machine learning algorihtms\n",
        "from sklearn.neighbors import KNeighborsClassifier\n",
        "from sklearn.linear_model import SGDClassifier, LogisticRegression\n",
        "from sklearn.ensemble import RandomForestClassifier, GradientBoostingClassifier"
      ],
      "execution_count": 0,
      "outputs": []
    },
    {
      "cell_type": "markdown",
      "metadata": {
        "id": "OwmpffJm-b7P",
        "colab_type": "text"
      },
      "source": [
        "Load the dataset: (training set and test set)"
      ]
    },
    {
      "cell_type": "code",
      "metadata": {
        "id": "fZbom0PP-tTv",
        "colab_type": "code",
        "outputId": "7f788f08-189c-40f0-d482-13026457ba1d",
        "colab": {
          "base_uri": "https://localhost:8080/",
          "height": 54
        }
      },
      "source": [
        "(X_train, y_train), (X_test, y_test) = mnist.load_data()"
      ],
      "execution_count": 2,
      "outputs": [
        {
          "output_type": "stream",
          "text": [
            "Downloading data from https://s3.amazonaws.com/img-datasets/mnist.npz\n",
            "11493376/11490434 [==============================] - 1s 0us/step\n"
          ],
          "name": "stdout"
        }
      ]
    },
    {
      "cell_type": "markdown",
      "metadata": {
        "id": "GUVViSwy-ywR",
        "colab_type": "text"
      },
      "source": [
        "Let's check the shape of training set and test set"
      ]
    },
    {
      "cell_type": "code",
      "metadata": {
        "id": "uP7ZJAor-4ZJ",
        "colab_type": "code",
        "outputId": "e4a65141-68ae-445f-eb44-7f4584514e58",
        "colab": {
          "base_uri": "https://localhost:8080/",
          "height": 90
        }
      },
      "source": [
        "print(\"X_train.shape: \", X_train.shape)\n",
        "print(\"X_test.shape: \", X_test.shape)\n",
        "print(\"y_train.shape: \", y_train.shape)\n",
        "print(\"y_test.shape: \", y_test.shape)"
      ],
      "execution_count": 3,
      "outputs": [
        {
          "output_type": "stream",
          "text": [
            "X_train.shape:  (60000, 28, 28)\n",
            "X_test.shape:  (10000, 28, 28)\n",
            "y_train.shape:  (60000,)\n",
            "y_test.shape:  (10000,)\n"
          ],
          "name": "stdout"
        }
      ]
    },
    {
      "cell_type": "markdown",
      "metadata": {
        "id": "t2LqpBAp_IeY",
        "colab_type": "text"
      },
      "source": [
        "Reshape (flatten) the feature tensor."
      ]
    },
    {
      "cell_type": "code",
      "metadata": {
        "id": "6MlgKJpG_S11",
        "colab_type": "code",
        "colab": {}
      },
      "source": [
        "X_train = X_train.reshape(60000, 28*28).astype('float32')\n",
        "X_test = X_test.reshape(10000, 28*28).astype('float32')"
      ],
      "execution_count": 0,
      "outputs": []
    },
    {
      "cell_type": "code",
      "metadata": {
        "id": "53_IRtpz_mjY",
        "colab_type": "code",
        "outputId": "83510cc8-d60e-43f8-b6d5-eb44040fbfa7",
        "colab": {
          "base_uri": "https://localhost:8080/",
          "height": 54
        }
      },
      "source": [
        "print(\"X_train.shape: \", X_train.shape)\n",
        "print(\"X_test.shape: \", X_test.shape)"
      ],
      "execution_count": 5,
      "outputs": [
        {
          "output_type": "stream",
          "text": [
            "X_train.shape:  (60000, 784)\n",
            "X_test.shape:  (10000, 784)\n"
          ],
          "name": "stdout"
        }
      ]
    },
    {
      "cell_type": "markdown",
      "metadata": {
        "id": "4aRNVncM_vRD",
        "colab_type": "text"
      },
      "source": [
        "Normalize"
      ]
    },
    {
      "cell_type": "code",
      "metadata": {
        "id": "ceG2DiqZ_3H9",
        "colab_type": "code",
        "colab": {}
      },
      "source": [
        "X_train /= 255\n",
        "X_test /= 255"
      ],
      "execution_count": 0,
      "outputs": []
    },
    {
      "cell_type": "markdown",
      "metadata": {
        "id": "TWTNSlRZA-BQ",
        "colab_type": "text"
      },
      "source": [
        "Split the training set into smaller training set and validation set."
      ]
    },
    {
      "cell_type": "code",
      "metadata": {
        "id": "e4rSUMw7BHt8",
        "colab_type": "code",
        "colab": {}
      },
      "source": [
        "X_train_tr, X_train_val, y_train_tr, y_train_val = train_test_split(X_train, y_train, random_state=42, test_size=0.1)"
      ],
      "execution_count": 0,
      "outputs": []
    },
    {
      "cell_type": "code",
      "metadata": {
        "id": "yAlPQnxOBclF",
        "colab_type": "code",
        "outputId": "b3afcf60-1ea9-4fe1-cf7a-f87f2ead8203",
        "colab": {
          "base_uri": "https://localhost:8080/",
          "height": 90
        }
      },
      "source": [
        "print(\"X training  shape: \", X_train_tr.shape)\n",
        "print(\"X validation shape: \", X_train_val.shape)\n",
        "print(\"y training  shape: \", y_train_tr.shape)\n",
        "print(\"y validation shape: \", y_train_val.shape)"
      ],
      "execution_count": 8,
      "outputs": [
        {
          "output_type": "stream",
          "text": [
            "X training  shape:  (54000, 784)\n",
            "X validation shape:  (6000, 784)\n",
            "y training  shape:  (54000,)\n",
            "y validation shape:  (6000,)\n"
          ],
          "name": "stdout"
        }
      ]
    },
    {
      "cell_type": "markdown",
      "metadata": {
        "id": "RBbQfvAOAV_R",
        "colab_type": "text"
      },
      "source": [
        "---"
      ]
    },
    {
      "cell_type": "markdown",
      "metadata": {
        "id": "oHHtxq0EAWp4",
        "colab_type": "text"
      },
      "source": [
        "## Machine Learning"
      ]
    },
    {
      "cell_type": "markdown",
      "metadata": {
        "id": "Vc6QI_-DJfX8",
        "colab_type": "text"
      },
      "source": [
        "### With Default Hyperparameters:"
      ]
    },
    {
      "cell_type": "markdown",
      "metadata": {
        "id": "cDTPFURZCyJJ",
        "colab_type": "text"
      },
      "source": [
        "#### SGDClassifier"
      ]
    },
    {
      "cell_type": "code",
      "metadata": {
        "id": "_WuCeq3HApaa",
        "colab_type": "code",
        "colab": {}
      },
      "source": [
        "sgd = SGDClassifier().fit(X_train_tr, y_train_tr)"
      ],
      "execution_count": 0,
      "outputs": []
    },
    {
      "cell_type": "code",
      "metadata": {
        "id": "IRWUlB77CbIK",
        "colab_type": "code",
        "outputId": "f7d42a75-6e4a-4d06-e1df-c0412cf6f515",
        "colab": {
          "base_uri": "https://localhost:8080/",
          "height": 35
        }
      },
      "source": [
        "print(sgd.score(X_train_val, y_train_val))"
      ],
      "execution_count": 0,
      "outputs": [
        {
          "output_type": "stream",
          "text": [
            "0.915\n"
          ],
          "name": "stdout"
        }
      ]
    },
    {
      "cell_type": "markdown",
      "metadata": {
        "id": "m9c2UCh3CiEc",
        "colab_type": "text"
      },
      "source": [
        "#### LogisticRegression"
      ]
    },
    {
      "cell_type": "code",
      "metadata": {
        "id": "hEw9JA7CC3he",
        "colab_type": "code",
        "outputId": "8e43141a-1f73-43f4-bd80-efba23c7fa43",
        "colab": {
          "base_uri": "https://localhost:8080/",
          "height": 182
        }
      },
      "source": [
        "logreg = LogisticRegression().fit(X_train_tr, y_train_tr)\n",
        "print(logreg.score(X_train_val, y_train_val))"
      ],
      "execution_count": 0,
      "outputs": [
        {
          "output_type": "stream",
          "text": [
            "0.927\n"
          ],
          "name": "stdout"
        },
        {
          "output_type": "stream",
          "text": [
            "/usr/local/lib/python3.6/dist-packages/sklearn/linear_model/_logistic.py:940: ConvergenceWarning: lbfgs failed to converge (status=1):\n",
            "STOP: TOTAL NO. of ITERATIONS REACHED LIMIT.\n",
            "\n",
            "Increase the number of iterations (max_iter) or scale the data as shown in:\n",
            "    https://scikit-learn.org/stable/modules/preprocessing.html\n",
            "Please also refer to the documentation for alternative solver options:\n",
            "    https://scikit-learn.org/stable/modules/linear_model.html#logistic-regression\n",
            "  extra_warning_msg=_LOGISTIC_SOLVER_CONVERGENCE_MSG)\n"
          ],
          "name": "stderr"
        }
      ]
    },
    {
      "cell_type": "markdown",
      "metadata": {
        "id": "wYMyWHYTC_7Y",
        "colab_type": "text"
      },
      "source": [
        "#### KNeighborsClassifier"
      ]
    },
    {
      "cell_type": "code",
      "metadata": {
        "id": "RqEY1YOhDGo7",
        "colab_type": "code",
        "colab": {}
      },
      "source": [
        "knn = KNeighborsClassifier().fit(X_train_tr, y_train_tr)\n",
        "print(knn.score(X_train_val, y_train_val))"
      ],
      "execution_count": 0,
      "outputs": []
    },
    {
      "cell_type": "markdown",
      "metadata": {
        "id": "3oIEjwLrDOpT",
        "colab_type": "text"
      },
      "source": [
        "#### RandomForestClassifier"
      ]
    },
    {
      "cell_type": "code",
      "metadata": {
        "id": "GjG8wyuXDPze",
        "colab_type": "code",
        "colab": {}
      },
      "source": [
        "rf = RandomForestClassifier().fit(X_train_tr, y_train_tr)\n",
        "print(rf.score(X_train_val, y_train_val))"
      ],
      "execution_count": 0,
      "outputs": []
    },
    {
      "cell_type": "markdown",
      "metadata": {
        "id": "FvSp2eSPKPQT",
        "colab_type": "text"
      },
      "source": [
        "#### GradientBoostingClassifier"
      ]
    },
    {
      "cell_type": "code",
      "metadata": {
        "id": "tjnC_H6QKQGW",
        "colab_type": "code",
        "colab": {}
      },
      "source": [
        "gbrt = GradientBoostingClassifier().fit(X_train_tr, y_train_tr)\n",
        "print(gbrt.score(X_train_val, y_train_val))"
      ],
      "execution_count": 0,
      "outputs": []
    },
    {
      "cell_type": "markdown",
      "metadata": {
        "id": "3CrAJdPyJ6TY",
        "colab_type": "text"
      },
      "source": [
        "### Tuned Models"
      ]
    },
    {
      "cell_type": "markdown",
      "metadata": {
        "id": "OEWJ6uJkKFcP",
        "colab_type": "text"
      },
      "source": [
        "#### SGDClassifier"
      ]
    },
    {
      "cell_type": "code",
      "metadata": {
        "id": "mdBwQ_KX1bfF",
        "colab_type": "code",
        "colab": {}
      },
      "source": [
        "sgd = SGDClassifier(penalty='elasticnet', l1_ratio=0.1, alpha=0.0001, epsilon=0.05).fit(X_train_tr, y_train_tr)\n",
        "print(sgd.score(X_train_val, y_train_val))"
      ],
      "execution_count": 0,
      "outputs": []
    },
    {
      "cell_type": "markdown",
      "metadata": {
        "id": "GIW2no7O1tOO",
        "colab_type": "text"
      },
      "source": [
        "#### LogisticRegression"
      ]
    },
    {
      "cell_type": "code",
      "metadata": {
        "id": "8c59MY951uB_",
        "colab_type": "code",
        "colab": {}
      },
      "source": [
        "logreg = LogisticRegression(penalty='l2', C=10).fit(X_train_tr, y_train_tr)\n",
        "print(logreg.score(X_train_val, y_train_val))"
      ],
      "execution_count": 0,
      "outputs": []
    },
    {
      "cell_type": "markdown",
      "metadata": {
        "id": "2dtlq4o21udW",
        "colab_type": "text"
      },
      "source": [
        "#### KNeighborsClassifier"
      ]
    },
    {
      "cell_type": "code",
      "metadata": {
        "id": "bWfVuJj_1vNK",
        "colab_type": "code",
        "colab": {}
      },
      "source": [
        "knn = KNeighborsClassifier(n_neighbors=5, weights='distance').fit(X_train_tr, y_train_tr)\n",
        "print(knn.score(X_train_val, y_train_val))"
      ],
      "execution_count": 0,
      "outputs": []
    },
    {
      "cell_type": "markdown",
      "metadata": {
        "id": "J9JlslHx1vxb",
        "colab_type": "text"
      },
      "source": [
        "#### RandomForestClassifier"
      ]
    },
    {
      "cell_type": "code",
      "metadata": {
        "id": "U2lmhGtI1-Wy",
        "colab_type": "code",
        "colab": {}
      },
      "source": [
        "rf = RandomForestClassifier(n_estimators=100, max_depth=5).fit(X_train_tr, y_train_tr)\n",
        "print(rf.score(X_train_val, y_train_val))"
      ],
      "execution_count": 0,
      "outputs": []
    },
    {
      "cell_type": "markdown",
      "metadata": {
        "id": "nCp_enSU3kb1",
        "colab_type": "text"
      },
      "source": [
        "### With Dimensionality Decomposition"
      ]
    },
    {
      "cell_type": "code",
      "metadata": {
        "id": "fOIOr4mp3oL1",
        "colab_type": "code",
        "colab": {}
      },
      "source": [
        "N_COMPONENTS = 500\n",
        "\n",
        "pca = PCA(n_components=N_COMPONENTS, whiten=True)\n",
        "nmf = NMF(n_components=N_COMPONENTS)"
      ],
      "execution_count": 0,
      "outputs": []
    },
    {
      "cell_type": "code",
      "metadata": {
        "id": "xJehSCNdflCQ",
        "colab_type": "code",
        "colab": {}
      },
      "source": [
        "X_train_tr_pca = pca.fit_transform(X_train_tr)\n",
        "X_train_val_pca = pca.transform(X_train_val)\n",
        "X_train_tr_nmf = nmf.fit_transform(X_train_tr)\n",
        "X_train_val_nmf = nmf.transform(X_train_val)"
      ],
      "execution_count": 0,
      "outputs": []
    },
    {
      "cell_type": "markdown",
      "metadata": {
        "id": "yjIvkeA_rZJu",
        "colab_type": "text"
      },
      "source": [
        "#### PCA"
      ]
    },
    {
      "cell_type": "code",
      "metadata": {
        "id": "EOmJn_y7qJQ-",
        "colab_type": "code",
        "colab": {}
      },
      "source": [
        "sgd = SGDClassifier(penalty='elasticnet', l1_ratio=0.1, alpha=0.0001, epsilon=0.05).fit(X_train_tr_pca, y_train_tr)\n",
        "logreg = LogisticRegression().fit(X_train_tr_pca, y_train_tr)\n",
        "knn = KNeighborsClassifier(n_neighbors=5, weights='distance').fit(X_train_tr_pca, y_train_tr)\n",
        "rf = RandomForestClassifier().fit(X_train_tr_pca, y_train_tr)"
      ],
      "execution_count": 0,
      "outputs": []
    },
    {
      "cell_type": "code",
      "metadata": {
        "id": "Br1XeHygqvW8",
        "colab_type": "code",
        "colab": {}
      },
      "source": [
        "print(\"SGD accuracy score with PCA decomposition: \", sgd.score(X_train_val_pca, y_train_val))\n",
        "print(\"LogisticRegression accuracy score with PCA decomposition: \", logreg.score(X_train_val_pca, y_train_val))\n",
        "print(\"KNeighborsClassifier accuracy score with PCA decomposition: \", knn.score(X_train_val_pca, y_train_val))\n",
        "print(\"RandomForestClassifier accuracy score with PCA decomposition: \", rf.score(X_train_val_pca, y_train_val))"
      ],
      "execution_count": 0,
      "outputs": []
    },
    {
      "cell_type": "markdown",
      "metadata": {
        "id": "Aaa1wSp2sZ4s",
        "colab_type": "text"
      },
      "source": [
        "#### NMF "
      ]
    },
    {
      "cell_type": "code",
      "metadata": {
        "id": "gYQ9I0o-sqQ7",
        "colab_type": "code",
        "colab": {}
      },
      "source": [
        "sgd = SGDClassifier(penalty='elasticnet', l1_ratio=0.1, alpha=0.0001, epsilon=0.05).fit(X_train_tr_nmf, y_train_tr)\n",
        "logreg = LogisticRegression().fit(X_train_tr_nmf, y_train_tr)\n",
        "knn = KNeighborsClassifier(n_neighbors=5, weights='distance').fit(X_train_tr_nmf, y_train_tr)\n",
        "rf = RandomForestClassifier().fit(X_train_tr_nmf, y_train_tr)"
      ],
      "execution_count": 0,
      "outputs": []
    },
    {
      "cell_type": "code",
      "metadata": {
        "id": "bqfdnzHEsynU",
        "colab_type": "code",
        "colab": {}
      },
      "source": [
        "print(\"SGD accuracy score with NMF decomposition: \", sgd.score(X_train_val_nmf, y_train_val))\n",
        "print(\"LogisticRegression accuracy score with NMF decomposition: \", logreg.score(X_train_val_nmf, y_train_val))\n",
        "print(\"KNeighborsClassifier accuracy score with NMF decomposition: \", knn.score(X_train_val_nmf, y_train_val))\n",
        "print(\"RandomForestClassifier accuracy score with NMF decomposition: \", rf.score(X_train_val_nmf, y_train_val))"
      ],
      "execution_count": 0,
      "outputs": []
    },
    {
      "cell_type": "markdown",
      "metadata": {
        "id": "NkOm4gKLUloT",
        "colab_type": "text"
      },
      "source": [
        "---"
      ]
    },
    {
      "cell_type": "markdown",
      "metadata": {
        "id": "_WlioCcjUyAh",
        "colab_type": "text"
      },
      "source": [
        "## Saving The Chosen Model"
      ]
    },
    {
      "cell_type": "code",
      "metadata": {
        "id": "CJKP6J2BU1fp",
        "colab_type": "code",
        "colab": {}
      },
      "source": [
        "model = KNeighborsClassifier(n_neighbors=5, weights='distance').fit(X_train_tr, y_train_tr)\n",
        "filename = 'finalized_model.sav'\n",
        "pickle.dump(model, open(filename, 'wb'))"
      ],
      "execution_count": 0,
      "outputs": []
    },
    {
      "cell_type": "code",
      "metadata": {
        "id": "avC49P-mXzRr",
        "colab_type": "code",
        "colab": {
          "base_uri": "https://localhost:8080/",
          "height": 35
        },
        "outputId": "edbc54cd-dfab-4b10-ba40-b5d7fcc209f3"
      },
      "source": [
        "import sklearn\n",
        "sklearn.__version__"
      ],
      "execution_count": 13,
      "outputs": [
        {
          "output_type": "execute_result",
          "data": {
            "text/plain": [
              "'0.22.1'"
            ]
          },
          "metadata": {
            "tags": []
          },
          "execution_count": 13
        }
      ]
    }
  ]
}